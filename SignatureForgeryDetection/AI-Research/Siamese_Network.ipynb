{
  "nbformat": 4,
  "nbformat_minor": 0,
  "metadata": {
    "colab": {
      "name": "Siamese-Network.ipynb",
      "provenance": [],
      "collapsed_sections": [],
      "toc_visible": true,
      "mount_file_id": "15tl-p7GjOsOiEeua9iQnyUgxMq8rN61r",
      "authorship_tag": "ABX9TyNDReB3kp/XKEmBbodLiejq",
      "include_colab_link": true
    },
    "kernelspec": {
      "name": "python3",
      "display_name": "Python 3"
    },
    "accelerator": "GPU"
  },
  "cells": [
    {
      "cell_type": "markdown",
      "metadata": {
        "id": "view-in-github",
        "colab_type": "text"
      },
      "source": [
        "<a href=\"https://colab.research.google.com/github/KevinHern/SP2-SFD/blob/master/SignatureForgeryDetection/AI-Research/Siamese_Network.ipynb\" target=\"_parent\"><img src=\"https://colab.research.google.com/assets/colab-badge.svg\" alt=\"Open In Colab\"/></a>"
      ]
    },
    {
      "cell_type": "code",
      "metadata": {
        "id": "saoFIWGkEjl-",
        "colab_type": "code",
        "colab": {
          "base_uri": "https://localhost:8080/",
          "height": 69
        },
        "outputId": "da18dedf-5e8f-4258-a9bc-a5d71d50e3a0"
      },
      "source": [
        "# Inspiration taken from:\n",
        "# https://github.com/KevinHern/SP2-SFD/blob/master/SignatureForgeryDetection/Papers/SigNet-Conv-Siamese-Network-for-Writer-Independent-Offline-Signature-Verification.pdf\n",
        "''' Credit to:\n",
        "Sounak Deya,∗∗, Anjan Duttaa, J. Ignacio Toledoa, Suman K.Ghosha, Josep Llados´a, Umapada Palb\n",
        "Computer Vision Center, Computer Science Dept., Universitat Aut`onoma de Barcelona, Edifici O, Campus UAB, 08193 Bellaterra, Spain\n",
        "Computer Vision and Pattern Recognition Unit, Indian Statistical Institute, 203, B. T. Road, Kolkata-700108, India\n",
        "'''"
      ],
      "execution_count": 1,
      "outputs": [
        {
          "output_type": "execute_result",
          "data": {
            "application/vnd.google.colaboratory.intrinsic+json": {
              "type": "string"
            },
            "text/plain": [
              "' Credit to:\\nSounak Deya,∗∗, Anjan Duttaa, J. Ignacio Toledoa, Suman K.Ghosha, Josep Llados´a, Umapada Palb\\nComputer Vision Center, Computer Science Dept., Universitat Aut`onoma de Barcelona, Edifici O, Campus UAB, 08193 Bellaterra, Spain\\nComputer Vision and Pattern Recognition Unit, Indian Statistical Institute, 203, B. T. Road, Kolkata-700108, India\\n'"
            ]
          },
          "metadata": {
            "tags": []
          },
          "execution_count": 1
        }
      ]
    },
    {
      "cell_type": "markdown",
      "metadata": {
        "id": "YA1v_ac5VOtV",
        "colab_type": "text"
      },
      "source": [
        "# Imports\n"
      ]
    },
    {
      "cell_type": "code",
      "metadata": {
        "id": "MV3AwFWKVP6R",
        "colab_type": "code",
        "colab": {}
      },
      "source": [
        "%load_ext tensorboard\n",
        "\n",
        "import tensorflow as tf\n",
        "from keras.callbacks import ModelCheckpoint, TensorBoard\n",
        "from keras.layers import Dense, Dropout, Input, Lambda, Subtract, Flatten, Convolution2D, MaxPooling2D, ZeroPadding2D\n",
        "from keras.preprocessing import image\n",
        "from keras import backend as K\n",
        "import getpass as gp\n",
        "import sys\n",
        "from keras.models import Sequential, Model\n",
        "from keras.optimizers import SGD, RMSprop, Adadelta\n",
        "from keras.layers.normalization import BatchNormalization\n",
        "from keras.regularizers import l2\n",
        "import numpy as np\n",
        "import matplotlib.pyplot as plt\n",
        "import random\n",
        "from itertools import permutations, combinations\n",
        "from datetime import date\n",
        "\n",
        "# To reproduce same results, we seet randomness to 1999\n",
        "np.random.seed(1999)"
      ],
      "execution_count": 2,
      "outputs": []
    },
    {
      "cell_type": "markdown",
      "metadata": {
        "id": "7rmCC9vkVVJc",
        "colab_type": "text"
      },
      "source": [
        "# Dataset Processing"
      ]
    },
    {
      "cell_type": "markdown",
      "metadata": {
        "id": "i4SBMlp8Acqs",
        "colab_type": "text"
      },
      "source": [
        "## Helping Functions Definition"
      ]
    },
    {
      "cell_type": "code",
      "metadata": {
        "id": "GGNo__ecAYB7",
        "colab_type": "code",
        "colab": {}
      },
      "source": [
        "# Multriprocessing. There are A TON of IMAGES TO LOAD\n",
        "from multiprocessing import Process, Lock, Manager\n",
        "\n",
        "routeOriginal = '/content/drive/My Drive/signatures/full_org/'\n",
        "routeForged = '/content/drive/My Drive/signatures/full_forg/'\n",
        "routeOriginalProcessed = '/content/drive/My Drive/signatures/full_org_proc/'\n",
        "routeForgedProcessed = '/content/drive/My Drive/signatures/full_forg_proc/'\n",
        "\n",
        "# Parallelizable Function\n",
        "def load_n_process_image(image_path):\n",
        "    # Loads image in grayscale and rescaled\n",
        "    img = image.load_img(image_path, target_size = (155, 200), color_mode=\"grayscale\")\n",
        "\n",
        "    # Convert to array\n",
        "    img = image.img_to_array(img)\n",
        "\n",
        "    # Invert White and Black\n",
        "    img = 255 - img\n",
        "\n",
        "    # Apply Threshold: All pixels below 50 become fully black while the others are converted to fully white\n",
        "    img = ((img//50) + 5)//6\n",
        "\n",
        "    # Save Image to Disk\n",
        "    tempPath = image_path\n",
        "    if \"original\" in tempPath:\n",
        "      tempPath = tempPath.replace(\"full_org\", \"full_org_proc\")\n",
        "      tempPath = tempPath.replace(\".png\", \"_proc.png\")\n",
        "      image.save_img(path=tempPath, x= img, scale=True, data_format='channels_last')\n",
        "    else:\n",
        "      tempPath = tempPath.replace(\"full_forg\", \"full_forg_proc\")\n",
        "      tempPath = tempPath.replace(\".png\", \"_proc.png\")\n",
        "      image.save_img(path=tempPath, x= img, scale=True, data_format='channels_last')\n",
        "\n",
        "    '''\n",
        "    # Add to Global list\n",
        "    lock.acquire()\n",
        "    dataset.append(img)\n",
        "    lock.release()\n",
        "    '''\n",
        "\n",
        "def get_images(folder_path):\n",
        "  # Get all file names from the directory\n",
        "  temporal_ds = tf.data.Dataset.list_files(folder_path, shuffle=False)\n",
        "\n",
        "  # Create 24 processes and each one loads an image\n",
        "  processes = []\n",
        "  for image_path in temporal_ds.take(24):\n",
        "    p = Process(target=load_n_process_image, args=[image_path.numpy().decode('UTF-8')])\n",
        "    p.start()\n",
        "    processes.append(p)\n",
        "\n",
        "  for process in processes:\n",
        "    process.join()\n",
        "\n",
        "def process_images(images_path, signers_batch, signatureType):\n",
        "  j = 0\n",
        "  for i in signers_batch:\n",
        "    print(\"<\", signatureType, \">\",\"Loading and Processing Signer Number:\", i)\n",
        "    get_images(images_path + str(i) + '/*.png')\n",
        "    print(\"Finished with Signer Number:\", i)\n",
        "    j += 1\n",
        "  assert j == len(signers_batch), \"Sizes do not match\"\n",
        "\n",
        "def process_pool(signers_batch):\n",
        "  # Create global list\n",
        "\n",
        "  # Create 2 processes.\n",
        "  # One Process Loads the Original Signatures Pool \n",
        "  # The other process loads the Forged Signatures Pool\n",
        "  processes = []\n",
        "\n",
        "  po = Process(target=process_images, args=[routeOriginal, signers_batch, \"Original\"])\n",
        "  pf = Process(target=process_images, args=[routeForged, signers_batch, \"Forged\"])\n",
        "\n",
        "  po.start()\n",
        "  pf.start()\n",
        "\n",
        "  processes.append(po)\n",
        "  processes.append(pf)\n",
        "\n",
        "  for process in processes:\n",
        "    process.join()\n"
      ],
      "execution_count": 3,
      "outputs": []
    },
    {
      "cell_type": "markdown",
      "metadata": {
        "id": "dqVlnrKZ_Uxy",
        "colab_type": "text"
      },
      "source": [
        "## All Signers Image Processing"
      ]
    },
    {
      "cell_type": "code",
      "metadata": {
        "id": "PZxK8BXk_Xye",
        "colab_type": "code",
        "colab": {}
      },
      "source": [
        "# Divide de 55 signers into 5 pools. Then, parrallelize the image processing by creating 5 Threads.\n",
        "# Google Drive manages the File System Synchronization\n",
        "# This reduces time drastically!\n",
        "# Average completion time: 6 minutes\n",
        "\n",
        "total_sign = 55\n",
        "\n",
        "processes = []\n",
        "signers_batches = np.array_split(list(i+1 for i in range(total_sign)), 5)\n",
        "process_images = False\n",
        "if process_images:\n",
        "  for i in range(len(signers_batches)):\n",
        "    p = Process(target=process_pool, args=[signers_batches[i]])\n",
        "    p.start()\n",
        "    processes.append(p)\n",
        "\n",
        "  for process in processes:\n",
        "    process.join()"
      ],
      "execution_count": 4,
      "outputs": []
    },
    {
      "cell_type": "markdown",
      "metadata": {
        "id": "vHIhrtLQggDD",
        "colab_type": "text"
      },
      "source": [
        "# Generating Genuine and Forged Pairs"
      ]
    },
    {
      "cell_type": "code",
      "metadata": {
        "id": "KXtNFBpwgg8K",
        "colab_type": "code",
        "colab": {
          "base_uri": "https://localhost:8080/",
          "height": 34
        },
        "outputId": "f2547eda-ebf3-4c7d-8c7b-5275304e5562"
      },
      "source": [
        "# Must sum 55\n",
        "\n",
        "total_signers = 8\n",
        "\n",
        "sign_index = list(i+1 for i in range(total_sign))\n",
        "signers = random.sample(sign_index, total_signers)\n",
        "\n",
        "sign_train = 16\n",
        "sign_valid = 4\n",
        "sign_test = 4\n",
        "\n",
        "# Splitting\n",
        "signatures = list(i+1 for i in range(24))\n",
        "sign_train_index = sorted(np.random.choice(signatures, sign_train, replace=False))\n",
        "sign_valid_index = sorted(np.random.choice([x for x in signatures if x not in sign_train_index], sign_valid, replace=False))\n",
        "sign_test_index = sorted(np.random.choice([x for x in signatures if x not in sign_train_index and x not in sign_valid_index], sign_test, replace=False))\n",
        "\n",
        "'''\n",
        "  Now, to train the Siamese Net we must use pairs of signatures.\n",
        "  For each signer, there are 24 genuine signatures. The total pairs for genuine signatures is 24C2 = 276 pairs.\n",
        "  And for each signer, there are 24 forged signatures. The total pairs of (genuine, forged) is 24x24 = 576 pairs.\n",
        "  This results in an imbalanced train-test dataset, the best work around is to select 276 (genuine, forged) pairs to\n",
        "  balance both positive and negative cases.\n",
        "\n",
        "  This results in:\n",
        "    * 552 pairs per signer\n",
        "    * A total of 23,184 train pairs\n",
        "    * A total of 3,864 test pairs\n",
        "    * A total of 3,312 validation pairs\n",
        "'''\n",
        "\n",
        "train_combinations = list(combinations(sign_train_index, 2))\n",
        "test_combinations = list(combinations(sign_test_index, 2))\n",
        "valid_combinations = list(combinations(sign_valid_index, 2))\n",
        "\n",
        "len(train_combinations), len(test_combinations), len(valid_combinations),"
      ],
      "execution_count": 5,
      "outputs": [
        {
          "output_type": "execute_result",
          "data": {
            "text/plain": [
              "(120, 6, 6)"
            ]
          },
          "metadata": {
            "tags": []
          },
          "execution_count": 5
        }
      ]
    },
    {
      "cell_type": "markdown",
      "metadata": {
        "id": "snlx-kKpavTb",
        "colab_type": "text"
      },
      "source": [
        "# Mapping Signers with Genuine and Forged Pairs"
      ]
    },
    {
      "cell_type": "code",
      "metadata": {
        "id": "zEovKN0BaRpM",
        "colab_type": "code",
        "colab": {
          "base_uri": "https://localhost:8080/",
          "height": 34
        },
        "outputId": "5297e6ac-f25e-4092-8e89-10e076c1c918"
      },
      "source": [
        "train_signers = []\n",
        "for signer in signers:\n",
        "  temp_list = list(map(lambda x: [signer, x, 1], train_combinations)) + list(map(lambda x: [signer, x, 0], train_combinations))\n",
        "  random.shuffle(temp_list)\n",
        "  train_signers += temp_list\n",
        "\n",
        "test_signers = []\n",
        "for signer in signers:\n",
        "  temp_list = list(map(lambda x: [signer, x, 1], test_combinations)) + list(map(lambda x: [signer, x, 0], test_combinations))\n",
        "  random.shuffle(temp_list)\n",
        "  test_signers += temp_list\n",
        "\n",
        "validation_signers = []\n",
        "for signer in signers:\n",
        "  temp_list = list(map(lambda x: [signer, x, 1], valid_combinations)) + list(map(lambda x: [signer, x, 0], valid_combinations))\n",
        "  random.shuffle(temp_list)\n",
        "  validation_signers += temp_list\n",
        "\n",
        "(len(train_signers), len(test_signers), len(validation_signers))"
      ],
      "execution_count": 6,
      "outputs": [
        {
          "output_type": "execute_result",
          "data": {
            "text/plain": [
              "(1920, 96, 96)"
            ]
          },
          "metadata": {
            "tags": []
          },
          "execution_count": 6
        }
      ]
    },
    {
      "cell_type": "code",
      "metadata": {
        "id": "-VPpUrDJJTa1",
        "colab_type": "code",
        "colab": {
          "base_uri": "https://localhost:8080/",
          "height": 1000
        },
        "outputId": "c8999896-7116-4734-e926-52803c35f39a"
      },
      "source": [
        "test_signers"
      ],
      "execution_count": 7,
      "outputs": [
        {
          "output_type": "execute_result",
          "data": {
            "text/plain": [
              "[[38, (1, 20), 1],\n",
              " [38, (19, 20), 0],\n",
              " [38, (5, 20), 0],\n",
              " [38, (1, 20), 0],\n",
              " [38, (1, 19), 0],\n",
              " [38, (5, 19), 1],\n",
              " [38, (5, 20), 1],\n",
              " [38, (5, 19), 0],\n",
              " [38, (1, 19), 1],\n",
              " [38, (1, 5), 0],\n",
              " [38, (1, 5), 1],\n",
              " [38, (19, 20), 1],\n",
              " [54, (1, 5), 1],\n",
              " [54, (1, 20), 1],\n",
              " [54, (5, 20), 1],\n",
              " [54, (5, 19), 1],\n",
              " [54, (1, 20), 0],\n",
              " [54, (5, 19), 0],\n",
              " [54, (1, 19), 1],\n",
              " [54, (19, 20), 1],\n",
              " [54, (1, 5), 0],\n",
              " [54, (19, 20), 0],\n",
              " [54, (5, 20), 0],\n",
              " [54, (1, 19), 0],\n",
              " [11, (5, 20), 0],\n",
              " [11, (5, 20), 1],\n",
              " [11, (1, 20), 1],\n",
              " [11, (1, 20), 0],\n",
              " [11, (1, 5), 0],\n",
              " [11, (5, 19), 1],\n",
              " [11, (19, 20), 0],\n",
              " [11, (19, 20), 1],\n",
              " [11, (5, 19), 0],\n",
              " [11, (1, 19), 1],\n",
              " [11, (1, 19), 0],\n",
              " [11, (1, 5), 1],\n",
              " [24, (1, 20), 0],\n",
              " [24, (1, 5), 1],\n",
              " [24, (1, 20), 1],\n",
              " [24, (5, 19), 0],\n",
              " [24, (5, 20), 0],\n",
              " [24, (5, 19), 1],\n",
              " [24, (1, 5), 0],\n",
              " [24, (19, 20), 0],\n",
              " [24, (19, 20), 1],\n",
              " [24, (1, 19), 1],\n",
              " [24, (1, 19), 0],\n",
              " [24, (5, 20), 1],\n",
              " [51, (1, 5), 1],\n",
              " [51, (1, 19), 0],\n",
              " [51, (5, 19), 0],\n",
              " [51, (5, 20), 0],\n",
              " [51, (19, 20), 1],\n",
              " [51, (1, 5), 0],\n",
              " [51, (5, 19), 1],\n",
              " [51, (1, 19), 1],\n",
              " [51, (5, 20), 1],\n",
              " [51, (1, 20), 0],\n",
              " [51, (1, 20), 1],\n",
              " [51, (19, 20), 0],\n",
              " [28, (1, 19), 1],\n",
              " [28, (5, 20), 1],\n",
              " [28, (1, 20), 1],\n",
              " [28, (1, 19), 0],\n",
              " [28, (5, 19), 0],\n",
              " [28, (19, 20), 1],\n",
              " [28, (19, 20), 0],\n",
              " [28, (5, 19), 1],\n",
              " [28, (5, 20), 0],\n",
              " [28, (1, 5), 0],\n",
              " [28, (1, 5), 1],\n",
              " [28, (1, 20), 0],\n",
              " [47, (1, 19), 0],\n",
              " [47, (1, 19), 1],\n",
              " [47, (1, 5), 0],\n",
              " [47, (5, 19), 0],\n",
              " [47, (5, 19), 1],\n",
              " [47, (19, 20), 1],\n",
              " [47, (5, 20), 0],\n",
              " [47, (5, 20), 1],\n",
              " [47, (1, 20), 1],\n",
              " [47, (1, 20), 0],\n",
              " [47, (1, 5), 1],\n",
              " [47, (19, 20), 0],\n",
              " [39, (5, 19), 1],\n",
              " [39, (1, 5), 1],\n",
              " [39, (5, 19), 0],\n",
              " [39, (5, 20), 0],\n",
              " [39, (19, 20), 0],\n",
              " [39, (1, 20), 0],\n",
              " [39, (5, 20), 1],\n",
              " [39, (1, 19), 0],\n",
              " [39, (1, 5), 0],\n",
              " [39, (1, 20), 1],\n",
              " [39, (1, 19), 1],\n",
              " [39, (19, 20), 1]]"
            ]
          },
          "metadata": {
            "tags": []
          },
          "execution_count": 7
        }
      ]
    },
    {
      "cell_type": "markdown",
      "metadata": {
        "id": "ImmNY-uEOUFx",
        "colab_type": "text"
      },
      "source": [
        "# Model Definition - Siamese Network"
      ]
    },
    {
      "cell_type": "markdown",
      "metadata": {
        "id": "WWFUOMWpRzNP",
        "colab_type": "text"
      },
      "source": [
        "## Loss Functions Definitions"
      ]
    },
    {
      "cell_type": "code",
      "metadata": {
        "id": "Cm7cq45pR05C",
        "colab_type": "code",
        "colab": {}
      },
      "source": [
        "def euclidean_distance(vects):\n",
        "    x, y = vects\n",
        "    return K.sqrt(K.sum(K.square(x - y), axis=1))\n",
        "\n",
        "\n",
        "def eucl_dist_output_shape(shapes):\n",
        "    shape1, shape2 = shapes\n",
        "    return (shape1[0], 1)\n",
        "\n",
        "\n",
        "def contrastive_loss(y_true, y_pred):\n",
        "    '''Contrastive loss from Hadsell-et-al.'06\n",
        "    http://yann.lecun.com/exdb/publis/pdf/hadsell-chopra-lecun-06.pdf\n",
        "    tfa.losses.contrastive_loss\n",
        "    '''\n",
        "    margin = 1\n",
        "    #print(type(y_true))\n",
        "    #print(type(y_pred))\n",
        "    y_pred = tf.cast(y_pred, dtype=tf.float32)\n",
        "    y_true = tf.cast(y_true, dtype=tf.float32)\n",
        "    return K.mean(y_true * K.square(y_pred) + (1 - y_true) * K.square(K.maximum(margin - y_pred, 0)))"
      ],
      "execution_count": 8,
      "outputs": []
    },
    {
      "cell_type": "markdown",
      "metadata": {
        "id": "6uJfaQM5OdhS",
        "colab_type": "text"
      },
      "source": [
        "## Architecture 1 - Layers Definition"
      ]
    },
    {
      "cell_type": "code",
      "metadata": {
        "id": "SgZXU67NOW0n",
        "colab_type": "code",
        "colab": {}
      },
      "source": [
        "def create_arch1(input_shape):\n",
        "    \n",
        "    seq = Sequential()\n",
        "    seq.add(Convolution2D(96, kernel_size=11, strides=(4,4), activation='relu', name='conv1_1', input_shape= input_shape, \n",
        "                        kernel_initializer='glorot_uniform'))\n",
        "    seq.add(BatchNormalization(epsilon=1e-06, axis=1, momentum=0.9))\n",
        "    seq.add(MaxPooling2D((3,3), strides=(2, 2)))    \n",
        "    seq.add(ZeroPadding2D((2, 2)))\n",
        "    \n",
        "    seq.add(Convolution2D(filters=256, kernel_size=5, strides=(1,1), activation='relu', name='conv2_1', kernel_initializer='glorot_uniform'))\n",
        "    seq.add(BatchNormalization(epsilon=1e-06, axis=1, momentum=0.9))\n",
        "    seq.add(MaxPooling2D((3,3), strides=(2, 2)))\n",
        "    seq.add(Dropout(0.3))# added extra\n",
        "    seq.add(ZeroPadding2D((1, 1)))\n",
        "    \n",
        "    seq.add(Convolution2D(filters=384, kernel_size=3, strides=(1,1), activation='relu', name='conv3_1', kernel_initializer='glorot_uniform'))\n",
        "    seq.add(ZeroPadding2D((1, 1)))\n",
        "    \n",
        "    seq.add(Convolution2D(filters=256, kernel_size=3, strides=(1,1), activation='relu', name='conv3_2', kernel_initializer='glorot_uniform'))    \n",
        "    seq.add(MaxPooling2D((3,3), strides=(2, 2)))\n",
        "    seq.add(Dropout(0.3))# added extra\n",
        "#    model.add(SpatialPyramidPooling([1, 2, 4]))\n",
        "    seq.add(Flatten(name='flatten'))\n",
        "    seq.add(Dense(1024, kernel_regularizer=l2(0.0005), activation='relu', kernel_initializer='glorot_uniform'))\n",
        "    seq.add(Dropout(0.5))\n",
        "    \n",
        "    seq.add(Dense(128, kernel_regularizer=l2(0.0005), activation='relu', kernel_initializer='glorot_uniform')) # softmax changed to relu\n",
        "    #seq.add(Dense(128, kernel_regularizer=l2(0.0005), activation='softmax', kernel_initializer='glorot_uniform')) # softmax changed to relu\n",
        "    \n",
        "    return seq"
      ],
      "execution_count": 9,
      "outputs": []
    },
    {
      "cell_type": "markdown",
      "metadata": {
        "id": "i4FdShhuOgtO",
        "colab_type": "text"
      },
      "source": [
        "## Architecture 2 - Layers Definition"
      ]
    },
    {
      "cell_type": "code",
      "metadata": {
        "id": "r7QL2A77Okkt",
        "colab_type": "code",
        "colab": {}
      },
      "source": [
        "def create_arch2(input_shape):\n",
        "  seq = Sequential()\n",
        "  seq.add(Convolution2D(256, kernel_size=5, strides=(1,1), activation='relu', name='conv1_1', input_shape= input_shape, \n",
        "                      kernel_initializer='glorot_uniform'))\n",
        "  seq.add(BatchNormalization(epsilon=1e-06, axis=1, momentum=0.9))\n",
        "  seq.add(MaxPooling2D((2,2)))   \n",
        "  \n",
        "  seq.add(Dropout(0.35))\n",
        "  seq.add(Convolution2D(filters=512, kernel_size=3, strides=(1,1), activation='relu', name='conv2_1', kernel_initializer='glorot_uniform'))\n",
        "  seq.add(Convolution2D(filters=256, kernel_size=2, strides=(2,2), activation='relu', name='conv2_2', kernel_initializer='glorot_uniform'))\n",
        "  seq.add(MaxPooling2D((3,3)))\n",
        "  seq.add(ZeroPadding2D((2, 2)))\n",
        "  \n",
        "\n",
        "  seq.add(Convolution2D(filters=256, kernel_size=2, activation='relu', name='conv3_2', kernel_initializer='glorot_uniform'))\n",
        "  seq.add(MaxPooling2D((3,3)))\n",
        "  seq.add(Dropout(0.3))\n",
        "\n",
        "  seq.add(Flatten(name='flatten'))\n",
        "  seq.add(Dense(1024, activation='relu', kernel_initializer='glorot_uniform'))\n",
        "  seq.add(Dropout(0.5))\n",
        "  \n",
        "  seq.add(Dense(128, activation='relu', kernel_initializer='glorot_uniform'))\n",
        "\n",
        "  return seq"
      ],
      "execution_count": 10,
      "outputs": []
    },
    {
      "cell_type": "markdown",
      "metadata": {
        "id": "p9K1AR9GOyXo",
        "colab_type": "text"
      },
      "source": [
        "## Siamese Network"
      ]
    },
    {
      "cell_type": "code",
      "metadata": {
        "id": "1kvljvS4Ozrc",
        "colab_type": "code",
        "colab": {}
      },
      "source": [
        "input_shape = (155, 220, 1)\n",
        "\n",
        "\n",
        "# Architecture 1\n",
        "base_network = create_arch1(input_shape)\n",
        "\n",
        "# Architecture 2\n",
        "#base_network = create_arch2(input_shape)\n",
        "\n",
        "input_a = Input((input_shape))\n",
        "input_b = Input((input_shape))\n",
        "\n",
        "# because we re-use the same instance `base_network`,\n",
        "# the weights of the network\n",
        "# will be shared across the two branches\n",
        "processed_a = base_network(input_a)\n",
        "processed_b = base_network(input_b)\n",
        "\n",
        "embedded_distance = Subtract(name='subtract_embeddings')([processed_a, processed_b])\n",
        "distance = Lambda(\n",
        "        lambda x: K.sqrt(K.sum(K.square(x), axis=-1, keepdims=True)), name='euclidean_distance'\n",
        "        )(embedded_distance)\n",
        "\n",
        "prediction = Dense(1, activation='sigmoid', kernel_initializer='glorot_uniform')(distance)\n",
        "\n",
        "siamese_model = Model([input_a, input_b],prediction)\n",
        "\n",
        "# compile model\n",
        "rms = RMSprop(lr=1e-4, rho=0.9, epsilon=1e-08)\n",
        "adadelta = Adadelta()\n",
        "siamese_model.compile(loss=contrastive_loss, optimizer=rms)\n"
      ],
      "execution_count": 11,
      "outputs": []
    },
    {
      "cell_type": "markdown",
      "metadata": {
        "id": "Um1G5AygO22s",
        "colab_type": "text"
      },
      "source": [
        "## Summary"
      ]
    },
    {
      "cell_type": "code",
      "metadata": {
        "id": "vljET9lUO516",
        "colab_type": "code",
        "colab": {
          "base_uri": "https://localhost:8080/",
          "height": 386
        },
        "outputId": "ca6d2016-5279-4b68-c2d6-9638bb095f66"
      },
      "source": [
        "siamese_model.summary()"
      ],
      "execution_count": 12,
      "outputs": [
        {
          "output_type": "stream",
          "text": [
            "Model: \"functional_1\"\n",
            "__________________________________________________________________________________________________\n",
            "Layer (type)                    Output Shape         Param #     Connected to                     \n",
            "==================================================================================================\n",
            "input_1 (InputLayer)            [(None, 155, 220, 1) 0                                            \n",
            "__________________________________________________________________________________________________\n",
            "input_2 (InputLayer)            [(None, 155, 220, 1) 0                                            \n",
            "__________________________________________________________________________________________________\n",
            "sequential (Sequential)         (None, 128)          6461084     input_1[0][0]                    \n",
            "                                                                 input_2[0][0]                    \n",
            "__________________________________________________________________________________________________\n",
            "subtract_embeddings (Subtract)  (None, 128)          0           sequential[0][0]                 \n",
            "                                                                 sequential[1][0]                 \n",
            "__________________________________________________________________________________________________\n",
            "euclidean_distance (Lambda)     (None, 1)            0           subtract_embeddings[0][0]        \n",
            "__________________________________________________________________________________________________\n",
            "dense_2 (Dense)                 (None, 1)            2           euclidean_distance[0][0]         \n",
            "==================================================================================================\n",
            "Total params: 6,461,086\n",
            "Trainable params: 6,460,976\n",
            "Non-trainable params: 110\n",
            "__________________________________________________________________________________________________\n"
          ],
          "name": "stdout"
        }
      ]
    },
    {
      "cell_type": "markdown",
      "metadata": {
        "id": "D7O-ZZE5O7k8",
        "colab_type": "text"
      },
      "source": [
        "## Visualization"
      ]
    },
    {
      "cell_type": "code",
      "metadata": {
        "id": "0O_9GqPxO89J",
        "colab_type": "code",
        "colab": {
          "base_uri": "https://localhost:8080/",
          "height": 533
        },
        "outputId": "d2f9fdd1-3a90-40e8-f598-3be0a45e46ab"
      },
      "source": [
        "tf.keras.utils.plot_model(siamese_model, show_shapes=True)"
      ],
      "execution_count": 13,
      "outputs": [
        {
          "output_type": "execute_result",
          "data": {
            "image/png": "[encoded data removed]",
            "text/plain": [
              "<IPython.core.display.Image object>"
            ]
          },
          "metadata": {
            "tags": []
          },
          "execution_count": 13
        }
      ]
    },
    {
      "cell_type": "markdown",
      "metadata": {
        "id": "Kq1HbVrDehmQ",
        "colab_type": "text"
      },
      "source": [
        "# Training"
      ]
    },
    {
      "cell_type": "markdown",
      "metadata": {
        "id": "YmqOt0WjgS7S",
        "colab_type": "text"
      },
      "source": [
        "## Helping Training Functions Definitions"
      ]
    },
    {
      "cell_type": "code",
      "metadata": {
        "id": "DQvFu_ASgYQW",
        "colab_type": "code",
        "colab": {}
      },
      "source": [
        "# Parallelizable Function \"Fetch images\"\n",
        "def load_processed_image(pid, images_to_fetch, signers_list, image_list, label_list, lock_signers_list, lock_batch):\n",
        "  #print(\"Process #\", pid, \"has to fetch: \", images_to_fetch, \"images\")\n",
        "  for i in range(images_to_fetch):\n",
        "\n",
        "    # Fetch 16 images, stop when there is none left\n",
        "    lock_signers_list.acquire()\n",
        "    #print(\"Actual len of signers_list: \", len(signers_list))\n",
        "    if len(signers_list) == 0:\n",
        "      lock_signers_list.release()\n",
        "      break\n",
        "    img_pair = signers_list.pop(0)\n",
        "    lock_signers_list.release()\n",
        "\n",
        "    # Extracting the signer, the image pairs and the label\n",
        "    signer = img_pair[0]\n",
        "    img1 = img_pair[1][0]\n",
        "    img2 = img_pair[1][1]\n",
        "    label = img_pair[2]\n",
        "\n",
        "    if label == 1:\n",
        "      # If the label is marked as Genuine (1), then load both images from the Original processed folder\n",
        "\n",
        "      path1 = routeOriginalProcessed + str(signer) + '/original_' + str(signer) + '_' + str(img1) + '_proc.png'\n",
        "      path2 = routeOriginalProcessed + str(signer) + '/original_' + str(signer) + '_' + str(img2) + '_proc.png'\n",
        "      #print(\"Path Img1:\", path1)\n",
        "      #print(\"Path Img2:\", path2)\n",
        "      \n",
        "    else:\n",
        "      # If the label is marked as Forged (0), then load images from their respective processed folder\n",
        "\n",
        "      path1 = routeOriginalProcessed + str(signer) + '/original_' + str(signer) + '_' + str(img1) + '_proc.png'\n",
        "      path2 = routeForgedProcessed + str(signer) + '/forgeries_' + str(signer) + '_' + str(img2) + '_proc.png'\n",
        "      \n",
        "\n",
        "    # Fetch IMG1\n",
        "    #print(\"Path Img1:\", path1)\n",
        "    #print(\"Path Img2:\", path2)\n",
        "    img1 = image.load_img(path1, target_size = (155, 200), color_mode=\"grayscale\")\n",
        "    img1 = image.img_to_array(img1)\n",
        "\n",
        "    # Fetch IMG2\n",
        "    img2 = image.load_img(path2, target_size = (155, 200), color_mode=\"grayscale\")\n",
        "    img2 = image.img_to_array(img2)\n",
        "\n",
        "    # Add Image pair to the Image list and label to the Label List\n",
        "    lock_batch.acquire()\n",
        "    image_list += [[img1, img2]]\n",
        "    label_list += [int(label)]\n",
        "    lock_batch.release()\n",
        "\n",
        "# This functions allows to fetch images in parallel to training the model.\n",
        "# This function is paralellized to decrease time.\n",
        "\n",
        "def SignatureGenerator(signers_pool, isTesting, batch, number_fetch_threads):\n",
        "  copy_signers = Manager().list(signers_pool.copy())\n",
        "  while True:\n",
        "    #print(\"Loading Batch Number:\", k)\n",
        "\n",
        "    # Creating N threads to fetch the 128 images\n",
        "    processes = []\n",
        "    img_pairs = Manager().list()\n",
        "    labels = Manager().list()\n",
        "    lock_batch = Lock()\n",
        "    lock_signers = Lock()\n",
        "\n",
        "    # Create the N threads\n",
        "    for i in range(number_fetch_threads):\n",
        "      p = Process(target=load_processed_image, args=[i, (batch//number_fetch_threads), copy_signers, img_pairs, labels, lock_signers, lock_batch])\n",
        "      p.start()\n",
        "      processes.append(p)\n",
        "\n",
        "    for process in processes:\n",
        "      process.join()\n",
        "    \n",
        "    # Casting to List\n",
        "    img_pairs = list(img_pairs)\n",
        "    labels = list(labels)\n",
        "\n",
        "    # Casting to Numpy Arrays\n",
        "    img_pairs = [np.array(img_pairs)[:,0], np.array(img_pairs)[:,1]]\n",
        "    labels = np.array(labels)\n",
        "    \n",
        "    if len(copy_signers) == 0:\n",
        "      copy_signers = Manager().list(signers_pool.copy())\n",
        "\n",
        "    if isTesting:\n",
        "      yield(img_pairs)\n",
        "    else:\n",
        "      yield(img_pairs, labels)\n",
        "\n"
      ],
      "execution_count": 14,
      "outputs": []
    },
    {
      "cell_type": "markdown",
      "metadata": {
        "id": "cp8CBm3_fr38",
        "colab_type": "text"
      },
      "source": [
        "## Callbacks"
      ]
    },
    {
      "cell_type": "code",
      "metadata": {
        "id": "CV6CqOsJiTk6",
        "colab_type": "code",
        "colab": {}
      },
      "source": [
        "#pip install -q pyyaml h5py  # Required to save models in HDF5 format"
      ],
      "execution_count": 15,
      "outputs": []
    },
    {
      "cell_type": "code",
      "metadata": {
        "id": "9xBjO6kjftLa",
        "colab_type": "code",
        "colab": {}
      },
      "source": [
        "def make_callbacks(count, date):\n",
        "  # Checkpoint callback - Save best model\n",
        "  dir_path = \"/content/drive/My Drive/SP2/SiameseNN/\"\n",
        "  model_path = dir_path + 'Models/' + date + '/' + str(count) + '/cp.ckpt'\n",
        "  filepath = model_path # + 'best' + str(count) + '.hdf5'\n",
        "  checkpoint_callback = ModelCheckpoint(\n",
        "      filepath,\n",
        "      verbose=1,\n",
        "      save_weights_only=True, \n",
        "      save_best_only = True,\n",
        "      save_freq='epoch'\n",
        "  )\n",
        "\n",
        "  # Tensorboard callback\n",
        "  logDir = dir_path + 'Logs/' + date + '/' + str(count) + '/'\n",
        "  tsboard_callback = tf.keras.callbacks.TensorBoard(log_dir=logDir, histogram_freq=1)\n",
        "  estopping_callback = tf.keras.callbacks.EarlyStopping(monitor='val_loss', patience=5, mode='auto', restore_best_weights=True, min_delta = 0.01)\n",
        "  \n",
        "  return [checkpoint_callback, tsboard_callback, estopping_callback]"
      ],
      "execution_count": 16,
      "outputs": []
    },
    {
      "cell_type": "markdown",
      "metadata": {
        "id": "L1A93hw7gZop",
        "colab_type": "text"
      },
      "source": [
        "## Model Training"
      ]
    },
    {
      "cell_type": "code",
      "metadata": {
        "id": "1xELOctXWV0V",
        "colab_type": "code",
        "colab": {
          "base_uri": "https://localhost:8080/",
          "height": 34
        },
        "outputId": "1443bf66-5644-4761-91c5-ec13659edc80"
      },
      "source": [
        "# Useful Variables to Track progress\n",
        "tryForToday = 3\n",
        "#tryForToday += 1\n",
        "today = str(date.today())\n",
        "print(today)"
      ],
      "execution_count": 17,
      "outputs": [
        {
          "output_type": "stream",
          "text": [
            "2020-09-17\n"
          ],
          "name": "stdout"
        }
      ]
    },
    {
      "cell_type": "code",
      "metadata": {
        "id": "EFqswoLxqGau",
        "colab_type": "code",
        "colab": {
          "base_uri": "https://localhost:8080/",
          "height": 474
        },
        "outputId": "67d9447f-6262-480e-ce43-d61cec66eac5"
      },
      "source": [
        "batch_size = 128\n",
        "epochs = 200\n",
        "samples_per_train = len(train_signers)//batch_size  + (1 if ((len(train_signers)%batch_size) > 0) else 0) \n",
        "samples_per_validation = len(validation_signers)//batch_size + (1 if ((len(validation_signers)%batch_size) > 0) else 0) \n",
        "number_fetch_threads = 4\n",
        "\n",
        "callbacks_list = make_callbacks(tryForToday, today)\n",
        "\n",
        "siamese_model.fit(\n",
        "    x=SignatureGenerator(train_signers, False, batch_size, number_fetch_threads),\n",
        "    steps_per_epoch=samples_per_train,\n",
        "    epochs=epochs,\n",
        "    validation_data=SignatureGenerator(validation_signers, False, batch_size, number_fetch_threads),\n",
        "    validation_steps=samples_per_validation,\n",
        "    verbose=1,\n",
        "    callbacks = callbacks_list,\n",
        "    )"
      ],
      "execution_count": 18,
      "outputs": [
        {
          "output_type": "stream",
          "text": [
            "Epoch 1/200\n",
            " 1/15 [=>............................] - ETA: 0s - loss: 1.4615WARNING:tensorflow:From /usr/local/lib/python3.6/dist-packages/tensorflow/python/ops/summary_ops_v2.py:1277: stop (from tensorflow.python.eager.profiler) is deprecated and will be removed after 2020-07-01.\n",
            "Instructions for updating:\n",
            "use `tf.profiler.experimental.stop` instead.\n",
            " 3/15 [=====>........................] - ETA: 2:29 - loss: 1.3808"
          ],
          "name": "stdout"
        },
        {
          "output_type": "error",
          "ename": "KeyboardInterrupt",
          "evalue": "ignored",
          "traceback": [
            "\u001b[0;31m---------------------------------------------------------------------------\u001b[0m",
            "\u001b[0;31mKeyboardInterrupt\u001b[0m                         Traceback (most recent call last)",
            "\u001b[0;32m<ipython-input-18-7fe2de65258b>\u001b[0m in \u001b[0;36m<module>\u001b[0;34m()\u001b[0m\n\u001b[1;32m     14\u001b[0m     \u001b[0mvalidation_steps\u001b[0m\u001b[0;34m=\u001b[0m\u001b[0msamples_per_validation\u001b[0m\u001b[0;34m,\u001b[0m\u001b[0;34m\u001b[0m\u001b[0;34m\u001b[0m\u001b[0m\n\u001b[1;32m     15\u001b[0m     \u001b[0mverbose\u001b[0m\u001b[0;34m=\u001b[0m\u001b[0;36m1\u001b[0m\u001b[0;34m,\u001b[0m\u001b[0;34m\u001b[0m\u001b[0;34m\u001b[0m\u001b[0m\n\u001b[0;32m---> 16\u001b[0;31m     \u001b[0mcallbacks\u001b[0m \u001b[0;34m=\u001b[0m \u001b[0mcallbacks_list\u001b[0m\u001b[0;34m,\u001b[0m\u001b[0;34m\u001b[0m\u001b[0;34m\u001b[0m\u001b[0m\n\u001b[0m\u001b[1;32m     17\u001b[0m     )\n",
            "\u001b[0;32m/usr/local/lib/python3.6/dist-packages/tensorflow/python/keras/engine/training.py\u001b[0m in \u001b[0;36m_method_wrapper\u001b[0;34m(self, *args, **kwargs)\u001b[0m\n\u001b[1;32m    106\u001b[0m   \u001b[0;32mdef\u001b[0m \u001b[0m_method_wrapper\u001b[0m\u001b[0;34m(\u001b[0m\u001b[0mself\u001b[0m\u001b[0;34m,\u001b[0m \u001b[0;34m*\u001b[0m\u001b[0margs\u001b[0m\u001b[0;34m,\u001b[0m \u001b[0;34m**\u001b[0m\u001b[0mkwargs\u001b[0m\u001b[0;34m)\u001b[0m\u001b[0;34m:\u001b[0m\u001b[0;34m\u001b[0m\u001b[0;34m\u001b[0m\u001b[0m\n\u001b[1;32m    107\u001b[0m     \u001b[0;32mif\u001b[0m \u001b[0;32mnot\u001b[0m \u001b[0mself\u001b[0m\u001b[0;34m.\u001b[0m\u001b[0m_in_multi_worker_mode\u001b[0m\u001b[0;34m(\u001b[0m\u001b[0;34m)\u001b[0m\u001b[0;34m:\u001b[0m  \u001b[0;31m# pylint: disable=protected-access\u001b[0m\u001b[0;34m\u001b[0m\u001b[0;34m\u001b[0m\u001b[0m\n\u001b[0;32m--> 108\u001b[0;31m       \u001b[0;32mreturn\u001b[0m \u001b[0mmethod\u001b[0m\u001b[0;34m(\u001b[0m\u001b[0mself\u001b[0m\u001b[0;34m,\u001b[0m \u001b[0;34m*\u001b[0m\u001b[0margs\u001b[0m\u001b[0;34m,\u001b[0m \u001b[0;34m**\u001b[0m\u001b[0mkwargs\u001b[0m\u001b[0;34m)\u001b[0m\u001b[0;34m\u001b[0m\u001b[0;34m\u001b[0m\u001b[0m\n\u001b[0m\u001b[1;32m    109\u001b[0m \u001b[0;34m\u001b[0m\u001b[0m\n\u001b[1;32m    110\u001b[0m     \u001b[0;31m# Running inside `run_distribute_coordinator` already.\u001b[0m\u001b[0;34m\u001b[0m\u001b[0;34m\u001b[0m\u001b[0;34m\u001b[0m\u001b[0m\n",
            "\u001b[0;32m/usr/local/lib/python3.6/dist-packages/tensorflow/python/keras/engine/training.py\u001b[0m in \u001b[0;36mfit\u001b[0;34m(self, x, y, batch_size, epochs, verbose, callbacks, validation_split, validation_data, shuffle, class_weight, sample_weight, initial_epoch, steps_per_epoch, validation_steps, validation_batch_size, validation_freq, max_queue_size, workers, use_multiprocessing)\u001b[0m\n\u001b[1;32m   1096\u001b[0m                 batch_size=batch_size):\n\u001b[1;32m   1097\u001b[0m               \u001b[0mcallbacks\u001b[0m\u001b[0;34m.\u001b[0m\u001b[0mon_train_batch_begin\u001b[0m\u001b[0;34m(\u001b[0m\u001b[0mstep\u001b[0m\u001b[0;34m)\u001b[0m\u001b[0;34m\u001b[0m\u001b[0;34m\u001b[0m\u001b[0m\n\u001b[0;32m-> 1098\u001b[0;31m               \u001b[0mtmp_logs\u001b[0m \u001b[0;34m=\u001b[0m \u001b[0mtrain_function\u001b[0m\u001b[0;34m(\u001b[0m\u001b[0miterator\u001b[0m\u001b[0;34m)\u001b[0m\u001b[0;34m\u001b[0m\u001b[0;34m\u001b[0m\u001b[0m\n\u001b[0m\u001b[1;32m   1099\u001b[0m               \u001b[0;32mif\u001b[0m \u001b[0mdata_handler\u001b[0m\u001b[0;34m.\u001b[0m\u001b[0mshould_sync\u001b[0m\u001b[0;34m:\u001b[0m\u001b[0;34m\u001b[0m\u001b[0;34m\u001b[0m\u001b[0m\n\u001b[1;32m   1100\u001b[0m                 \u001b[0mcontext\u001b[0m\u001b[0;34m.\u001b[0m\u001b[0masync_wait\u001b[0m\u001b[0;34m(\u001b[0m\u001b[0;34m)\u001b[0m\u001b[0;34m\u001b[0m\u001b[0;34m\u001b[0m\u001b[0m\n",
            "\u001b[0;32m/usr/local/lib/python3.6/dist-packages/tensorflow/python/eager/def_function.py\u001b[0m in \u001b[0;36m__call__\u001b[0;34m(self, *args, **kwds)\u001b[0m\n\u001b[1;32m    778\u001b[0m       \u001b[0;32melse\u001b[0m\u001b[0;34m:\u001b[0m\u001b[0;34m\u001b[0m\u001b[0;34m\u001b[0m\u001b[0m\n\u001b[1;32m    779\u001b[0m         \u001b[0mcompiler\u001b[0m \u001b[0;34m=\u001b[0m \u001b[0;34m\"nonXla\"\u001b[0m\u001b[0;34m\u001b[0m\u001b[0;34m\u001b[0m\u001b[0m\n\u001b[0;32m--> 780\u001b[0;31m         \u001b[0mresult\u001b[0m \u001b[0;34m=\u001b[0m \u001b[0mself\u001b[0m\u001b[0;34m.\u001b[0m\u001b[0m_call\u001b[0m\u001b[0;34m(\u001b[0m\u001b[0;34m*\u001b[0m\u001b[0margs\u001b[0m\u001b[0;34m,\u001b[0m \u001b[0;34m**\u001b[0m\u001b[0mkwds\u001b[0m\u001b[0;34m)\u001b[0m\u001b[0;34m\u001b[0m\u001b[0;34m\u001b[0m\u001b[0m\n\u001b[0m\u001b[1;32m    781\u001b[0m \u001b[0;34m\u001b[0m\u001b[0m\n\u001b[1;32m    782\u001b[0m       \u001b[0mnew_tracing_count\u001b[0m \u001b[0;34m=\u001b[0m \u001b[0mself\u001b[0m\u001b[0;34m.\u001b[0m\u001b[0m_get_tracing_count\u001b[0m\u001b[0;34m(\u001b[0m\u001b[0;34m)\u001b[0m\u001b[0;34m\u001b[0m\u001b[0;34m\u001b[0m\u001b[0m\n",
            "\u001b[0;32m/usr/local/lib/python3.6/dist-packages/tensorflow/python/eager/def_function.py\u001b[0m in \u001b[0;36m_call\u001b[0;34m(self, *args, **kwds)\u001b[0m\n\u001b[1;32m    805\u001b[0m       \u001b[0;31m# In this case we have created variables on the first call, so we run the\u001b[0m\u001b[0;34m\u001b[0m\u001b[0;34m\u001b[0m\u001b[0;34m\u001b[0m\u001b[0m\n\u001b[1;32m    806\u001b[0m       \u001b[0;31m# defunned version which is guaranteed to never create variables.\u001b[0m\u001b[0;34m\u001b[0m\u001b[0;34m\u001b[0m\u001b[0;34m\u001b[0m\u001b[0m\n\u001b[0;32m--> 807\u001b[0;31m       \u001b[0;32mreturn\u001b[0m \u001b[0mself\u001b[0m\u001b[0;34m.\u001b[0m\u001b[0m_stateless_fn\u001b[0m\u001b[0;34m(\u001b[0m\u001b[0;34m*\u001b[0m\u001b[0margs\u001b[0m\u001b[0;34m,\u001b[0m \u001b[0;34m**\u001b[0m\u001b[0mkwds\u001b[0m\u001b[0;34m)\u001b[0m  \u001b[0;31m# pylint: disable=not-callable\u001b[0m\u001b[0;34m\u001b[0m\u001b[0;34m\u001b[0m\u001b[0m\n\u001b[0m\u001b[1;32m    808\u001b[0m     \u001b[0;32melif\u001b[0m \u001b[0mself\u001b[0m\u001b[0;34m.\u001b[0m\u001b[0m_stateful_fn\u001b[0m \u001b[0;32mis\u001b[0m \u001b[0;32mnot\u001b[0m \u001b[0;32mNone\u001b[0m\u001b[0;34m:\u001b[0m\u001b[0;34m\u001b[0m\u001b[0;34m\u001b[0m\u001b[0m\n\u001b[1;32m    809\u001b[0m       \u001b[0;31m# Release the lock early so that multiple threads can perform the call\u001b[0m\u001b[0;34m\u001b[0m\u001b[0;34m\u001b[0m\u001b[0;34m\u001b[0m\u001b[0m\n",
            "\u001b[0;32m/usr/local/lib/python3.6/dist-packages/tensorflow/python/eager/function.py\u001b[0m in \u001b[0;36m__call__\u001b[0;34m(self, *args, **kwargs)\u001b[0m\n\u001b[1;32m   2827\u001b[0m     \u001b[0;32mwith\u001b[0m \u001b[0mself\u001b[0m\u001b[0;34m.\u001b[0m\u001b[0m_lock\u001b[0m\u001b[0;34m:\u001b[0m\u001b[0;34m\u001b[0m\u001b[0;34m\u001b[0m\u001b[0m\n\u001b[1;32m   2828\u001b[0m       \u001b[0mgraph_function\u001b[0m\u001b[0;34m,\u001b[0m \u001b[0margs\u001b[0m\u001b[0;34m,\u001b[0m \u001b[0mkwargs\u001b[0m \u001b[0;34m=\u001b[0m \u001b[0mself\u001b[0m\u001b[0;34m.\u001b[0m\u001b[0m_maybe_define_function\u001b[0m\u001b[0;34m(\u001b[0m\u001b[0margs\u001b[0m\u001b[0;34m,\u001b[0m \u001b[0mkwargs\u001b[0m\u001b[0;34m)\u001b[0m\u001b[0;34m\u001b[0m\u001b[0;34m\u001b[0m\u001b[0m\n\u001b[0;32m-> 2829\u001b[0;31m     \u001b[0;32mreturn\u001b[0m \u001b[0mgraph_function\u001b[0m\u001b[0;34m.\u001b[0m\u001b[0m_filtered_call\u001b[0m\u001b[0;34m(\u001b[0m\u001b[0margs\u001b[0m\u001b[0;34m,\u001b[0m \u001b[0mkwargs\u001b[0m\u001b[0;34m)\u001b[0m  \u001b[0;31m# pylint: disable=protected-access\u001b[0m\u001b[0;34m\u001b[0m\u001b[0;34m\u001b[0m\u001b[0m\n\u001b[0m\u001b[1;32m   2830\u001b[0m \u001b[0;34m\u001b[0m\u001b[0m\n\u001b[1;32m   2831\u001b[0m   \u001b[0;34m@\u001b[0m\u001b[0mproperty\u001b[0m\u001b[0;34m\u001b[0m\u001b[0;34m\u001b[0m\u001b[0m\n",
            "\u001b[0;32m/usr/local/lib/python3.6/dist-packages/tensorflow/python/eager/function.py\u001b[0m in \u001b[0;36m_filtered_call\u001b[0;34m(self, args, kwargs, cancellation_manager)\u001b[0m\n\u001b[1;32m   1846\u001b[0m                            resource_variable_ops.BaseResourceVariable))],\n\u001b[1;32m   1847\u001b[0m         \u001b[0mcaptured_inputs\u001b[0m\u001b[0;34m=\u001b[0m\u001b[0mself\u001b[0m\u001b[0;34m.\u001b[0m\u001b[0mcaptured_inputs\u001b[0m\u001b[0;34m,\u001b[0m\u001b[0;34m\u001b[0m\u001b[0;34m\u001b[0m\u001b[0m\n\u001b[0;32m-> 1848\u001b[0;31m         cancellation_manager=cancellation_manager)\n\u001b[0m\u001b[1;32m   1849\u001b[0m \u001b[0;34m\u001b[0m\u001b[0m\n\u001b[1;32m   1850\u001b[0m   \u001b[0;32mdef\u001b[0m \u001b[0m_call_flat\u001b[0m\u001b[0;34m(\u001b[0m\u001b[0mself\u001b[0m\u001b[0;34m,\u001b[0m \u001b[0margs\u001b[0m\u001b[0;34m,\u001b[0m \u001b[0mcaptured_inputs\u001b[0m\u001b[0;34m,\u001b[0m \u001b[0mcancellation_manager\u001b[0m\u001b[0;34m=\u001b[0m\u001b[0;32mNone\u001b[0m\u001b[0;34m)\u001b[0m\u001b[0;34m:\u001b[0m\u001b[0;34m\u001b[0m\u001b[0;34m\u001b[0m\u001b[0m\n",
            "\u001b[0;32m/usr/local/lib/python3.6/dist-packages/tensorflow/python/eager/function.py\u001b[0m in \u001b[0;36m_call_flat\u001b[0;34m(self, args, captured_inputs, cancellation_manager)\u001b[0m\n\u001b[1;32m   1922\u001b[0m       \u001b[0;31m# No tape is watching; skip to running the function.\u001b[0m\u001b[0;34m\u001b[0m\u001b[0;34m\u001b[0m\u001b[0;34m\u001b[0m\u001b[0m\n\u001b[1;32m   1923\u001b[0m       return self._build_call_outputs(self._inference_function.call(\n\u001b[0;32m-> 1924\u001b[0;31m           ctx, args, cancellation_manager=cancellation_manager))\n\u001b[0m\u001b[1;32m   1925\u001b[0m     forward_backward = self._select_forward_and_backward_functions(\n\u001b[1;32m   1926\u001b[0m         \u001b[0margs\u001b[0m\u001b[0;34m,\u001b[0m\u001b[0;34m\u001b[0m\u001b[0;34m\u001b[0m\u001b[0m\n",
            "\u001b[0;32m/usr/local/lib/python3.6/dist-packages/tensorflow/python/eager/function.py\u001b[0m in \u001b[0;36mcall\u001b[0;34m(self, ctx, args, cancellation_manager)\u001b[0m\n\u001b[1;32m    548\u001b[0m               \u001b[0minputs\u001b[0m\u001b[0;34m=\u001b[0m\u001b[0margs\u001b[0m\u001b[0;34m,\u001b[0m\u001b[0;34m\u001b[0m\u001b[0;34m\u001b[0m\u001b[0m\n\u001b[1;32m    549\u001b[0m               \u001b[0mattrs\u001b[0m\u001b[0;34m=\u001b[0m\u001b[0mattrs\u001b[0m\u001b[0;34m,\u001b[0m\u001b[0;34m\u001b[0m\u001b[0;34m\u001b[0m\u001b[0m\n\u001b[0;32m--> 550\u001b[0;31m               ctx=ctx)\n\u001b[0m\u001b[1;32m    551\u001b[0m         \u001b[0;32melse\u001b[0m\u001b[0;34m:\u001b[0m\u001b[0;34m\u001b[0m\u001b[0;34m\u001b[0m\u001b[0m\n\u001b[1;32m    552\u001b[0m           outputs = execute.execute_with_cancellation(\n",
            "\u001b[0;32m/usr/local/lib/python3.6/dist-packages/tensorflow/python/eager/execute.py\u001b[0m in \u001b[0;36mquick_execute\u001b[0;34m(op_name, num_outputs, inputs, attrs, ctx, name)\u001b[0m\n\u001b[1;32m     58\u001b[0m     \u001b[0mctx\u001b[0m\u001b[0;34m.\u001b[0m\u001b[0mensure_initialized\u001b[0m\u001b[0;34m(\u001b[0m\u001b[0;34m)\u001b[0m\u001b[0;34m\u001b[0m\u001b[0;34m\u001b[0m\u001b[0m\n\u001b[1;32m     59\u001b[0m     tensors = pywrap_tfe.TFE_Py_Execute(ctx._handle, device_name, op_name,\n\u001b[0;32m---> 60\u001b[0;31m                                         inputs, attrs, num_outputs)\n\u001b[0m\u001b[1;32m     61\u001b[0m   \u001b[0;32mexcept\u001b[0m \u001b[0mcore\u001b[0m\u001b[0;34m.\u001b[0m\u001b[0m_NotOkStatusException\u001b[0m \u001b[0;32mas\u001b[0m \u001b[0me\u001b[0m\u001b[0;34m:\u001b[0m\u001b[0;34m\u001b[0m\u001b[0;34m\u001b[0m\u001b[0m\n\u001b[1;32m     62\u001b[0m     \u001b[0;32mif\u001b[0m \u001b[0mname\u001b[0m \u001b[0;32mis\u001b[0m \u001b[0;32mnot\u001b[0m \u001b[0;32mNone\u001b[0m\u001b[0;34m:\u001b[0m\u001b[0;34m\u001b[0m\u001b[0;34m\u001b[0m\u001b[0m\n",
            "\u001b[0;31mKeyboardInterrupt\u001b[0m: "
          ]
        }
      ]
    },
    {
      "cell_type": "markdown",
      "metadata": {
        "id": "n0JX4A0H3vmy",
        "colab_type": "text"
      },
      "source": [
        "## Visualize Training Results"
      ]
    },
    {
      "cell_type": "code",
      "metadata": {
        "id": "HGo6zPZh3x3N",
        "colab_type": "code",
        "colab": {}
      },
      "source": [
        "#%tensorboard --logdir '/content/drive/My Drive/SP2/SiameseNN/Logs/' --port=8011"
      ],
      "execution_count": null,
      "outputs": []
    },
    {
      "cell_type": "markdown",
      "metadata": {
        "id": "588wv_qVei1M",
        "colab_type": "text"
      },
      "source": [
        "# Testing"
      ]
    },
    {
      "cell_type": "markdown",
      "metadata": {
        "id": "6qn4554fasUS",
        "colab_type": "text"
      },
      "source": [
        "## Helping Testing Functions Definitions"
      ]
    },
    {
      "cell_type": "code",
      "metadata": {
        "id": "nB0M0nKszoHw",
        "colab_type": "code",
        "colab": {}
      },
      "source": [
        "# This functions allows to fetch images in parallel to training the model.\n",
        "# This function is paralellized to decrease time.\n",
        "'''\n",
        "number_fetch_threads = 1\n",
        "def SignatureTestGenerator(signers_pool):\n",
        "  k = 0\n",
        "  copy_signers = Manager().list(signers_pool.copy())\n",
        "  to_fetch = len(copy_signers)\n",
        "  while True:\n",
        "    #print(\"Loading Batch Number:\", k)\n",
        "\n",
        "    # Creating N threads to fetch the 128 images\n",
        "    processes = []\n",
        "    img_pairs = Manager().list()\n",
        "    labels = Manager().list()\n",
        "    lock_batch = Lock()\n",
        "    lock_signers = Lock()\n",
        "\n",
        "    # Create the N threads\n",
        "    for i in range(number_fetch_threads):\n",
        "      p = Process(target=load_processed_image, args=[i, 1, copy_signers, img_pairs, labels, lock_signers, lock_batch])\n",
        "      p.start()\n",
        "      processes.append(p)\n",
        "\n",
        "    for process in processes:\n",
        "      process.join()\n",
        "    \n",
        "    # Casting to List\n",
        "    img_pairs = list(img_pairs)\n",
        "    labels = list(labels)\n",
        "\n",
        "    # Casting to Numpy Arrays\n",
        "    img_pairs = [np.array(img_pairs)[:,0], np.array(img_pairs)[:,1]]\n",
        "    labels = np.array(labels)\n",
        "    \n",
        "    if k\\len(copy_signers) == 0:\n",
        "      copy_signers = Manager().list(signers_pool.copy())\n",
        "\n",
        "    yield(img_pairs)\n",
        "'''"
      ],
      "execution_count": null,
      "outputs": []
    },
    {
      "cell_type": "code",
      "metadata": {
        "id": "6kgeoKrparaJ",
        "colab_type": "code",
        "colab": {}
      },
      "source": [
        "def compute_accuracy_roc(predictions, labels):\n",
        "   '''Compute ROC accuracy with a range of thresholds on distances.\n",
        "   '''\n",
        "   dmax = np.max(predictions)\n",
        "   dmin = np.min(predictions)\n",
        "   nsame = np.sum(labels == 1)\n",
        "   ndiff = np.sum(labels == 0)\n",
        "   \n",
        "   step = 0.01\n",
        "   max_acc = 0\n",
        "   \n",
        "   for d in np.arange(dmin, dmax+step, step):\n",
        "       idx1 = predictions.ravel() <= d\n",
        "       idx2 = predictions.ravel() > d\n",
        "       \n",
        "       tpr = float(np.sum(labels[idx1] == 1)) / nsame       \n",
        "       tnr = float(np.sum(labels[idx2] == 0)) / ndiff\n",
        "       acc = 0.5 * (tpr + tnr)       \n",
        "#       print ('ROC', acc, tpr, tnr)\n",
        "       \n",
        "       if (acc > max_acc):\n",
        "           max_acc = acc\n",
        "           \n",
        "   return max_acc"
      ],
      "execution_count": null,
      "outputs": []
    },
    {
      "cell_type": "markdown",
      "metadata": {
        "id": "HS-IFA8xzLa6",
        "colab_type": "text"
      },
      "source": [
        "## Loading Model (Weights)"
      ]
    },
    {
      "cell_type": "code",
      "metadata": {
        "id": "YlN-sD_SzM5A",
        "colab_type": "code",
        "colab": {}
      },
      "source": [
        "model_path = '/content/drive/My Drive/SP2/SiameseNN/Models/' + today + '/' + str(tryForToday) + '/cp.ckpt'\n",
        "\n",
        "siamese_model.load_weights(model_path)\n",
        "print (model_path)"
      ],
      "execution_count": null,
      "outputs": []
    },
    {
      "cell_type": "markdown",
      "metadata": {
        "id": "uyvOyhZoNgVZ",
        "colab_type": "text"
      },
      "source": [
        "## Evaluating Model"
      ]
    },
    {
      "cell_type": "code",
      "metadata": {
        "id": "m-VclYcMPMIv",
        "colab_type": "code",
        "colab": {}
      },
      "source": [
        "number_of_samples = 500 if len(test_signers) > 500 else len(test_signers)\n",
        "eval_pool = random.sample(test_signers, number_of_samples)\n",
        "\n",
        "eval = siamese_model.predict(\n",
        "    x=SignatureGenerator(eval_pool, True, 1, 1),\n",
        "    steps = len(eval_pool),\n",
        "    verbose=1\n",
        ")"
      ],
      "execution_count": null,
      "outputs": []
    },
    {
      "cell_type": "code",
      "metadata": {
        "id": "KS_TJNQgX6-E",
        "colab_type": "code",
        "colab": {}
      },
      "source": [
        "samples_per_test = (len(eval_pool)//batch_size) + (1 if ((len(eval_pool)%batch_size) > 0) else 0) \n",
        "\n",
        "siamese_model.evaluate(\n",
        "    x=SignatureGenerator(eval_pool, False, batch_size, number_fetch_threads),\n",
        "    steps= samples_per_test,\n",
        "    verbose= 1,\n",
        ")"
      ],
      "execution_count": null,
      "outputs": []
    },
    {
      "cell_type": "markdown",
      "metadata": {
        "id": "5Fel4G1BekA1",
        "colab_type": "text"
      },
      "source": [
        "# Results"
      ]
    },
    {
      "cell_type": "markdown",
      "metadata": {
        "id": "sW0Tp2BFJjAV",
        "colab_type": "text"
      },
      "source": [
        "## Helping Results Functions Definitions"
      ]
    },
    {
      "cell_type": "code",
      "metadata": {
        "id": "i93jNaK7JmeF",
        "colab_type": "code",
        "colab": {}
      },
      "source": [
        "# Build Confusion matrix\n",
        "import seaborn as sns\n",
        "\n",
        "def show_confussion_matrix(correct, predictions, labels, fig_size):\n",
        "  conf_matrix = tf.math.confusion_matrix(labels=correct, predictions=predictions)\n",
        "\n",
        "  figure = plt.figure(figsize=fig_size)\n",
        "  sns.heatmap(\n",
        "      conf_matrix,\n",
        "      annot=True,\n",
        "      cmap=plt.cm.Blues,\n",
        "      xticklabels=labels,\n",
        "      yticklabels=labels\n",
        "      )\n",
        "\n",
        "  plt.tight_layout()\n",
        "  plt.ylabel('True Case')\n",
        "  plt.xlabel('Predicted Case')\n",
        "\n",
        "  plt.show()"
      ],
      "execution_count": null,
      "outputs": []
    },
    {
      "cell_type": "markdown",
      "metadata": {
        "id": "Ty4hUTI6JnQI",
        "colab_type": "text"
      },
      "source": [
        "## Confusion Matrix"
      ]
    },
    {
      "cell_type": "code",
      "metadata": {
        "id": "PL0GweTqPo88",
        "colab_type": "code",
        "colab": {}
      },
      "source": [
        "# Getting correct labels\n",
        "correct = list(map(lambda x: x[2], eval_pool))\n",
        "\n",
        "# Getting predictions\n",
        "threshold = sum(eval) / len(eval)\n",
        "threshold\n",
        "predictions = list(map(lambda x: 0 if x > threshold else 1, eval))\n",
        "\n",
        "# Labels\n",
        "labels = [\"Forged\", \"Genuine\"]\n",
        "\n",
        "# Confusion Matrix\n",
        "show_confussion_matrix(correct, predictions, labels, (5,5))"
      ],
      "execution_count": null,
      "outputs": []
    },
    {
      "cell_type": "code",
      "metadata": {
        "id": "2grr7Ez2fdZN",
        "colab_type": "code",
        "colab": {}
      },
      "source": [
        "from sklearn.metrics import accuracy_score, precision_score, recall_score, f1_score\n",
        "\n",
        "# accuracy: (tp + tn) / (p + n)\n",
        "accuracy = accuracy_score(correct, predictions)\n",
        "print('Accuracy: %f' % accuracy)\n",
        "# precision tp / (tp + fp)\n",
        "precision = precision_score(correct, predictions)\n",
        "print('Precision: %f' % precision)\n",
        "# recall: tp / (tp + fn)\n",
        "recall = recall_score(correct, predictions)\n",
        "print('Recall: %f' % recall)\n",
        "# f1: 2 tp / (2 tp + fp + fn)\n",
        "f1 = f1_score(correct, predictions)\n",
        "print('F1 score: %f' % f1)"
      ],
      "execution_count": null,
      "outputs": []
    }
  ]
}